{
 "cells": [
  {
   "cell_type": "code",
   "execution_count": 1,
   "metadata": {},
   "outputs": [
    {
     "name": "stdout",
     "output_type": "stream",
     "text": [
      "*** Introductory Examples for the NLTK Book ***\n",
      "Loading text1, ..., text9 and sent1, ..., sent9\n",
      "Type the name of the text or sentence to view it.\n",
      "Type: 'texts()' or 'sents()' to list the materials.\n",
      "text1: Moby Dick by Herman Melville 1851\n",
      "text2: Sense and Sensibility by Jane Austen 1811\n",
      "text3: The Book of Genesis\n",
      "text4: Inaugural Address Corpus\n",
      "text5: Chat Corpus\n",
      "text6: Monty Python and the Holy Grail\n",
      "text7: Wall Street Journal\n",
      "text8: Personals Corpus\n",
      "text9: The Man Who Was Thursday by G . K . Chesterton 1908\n"
     ]
    }
   ],
   "source": [
    "from nltk.book import *"
   ]
  },
  {
   "cell_type": "code",
   "execution_count": 2,
   "metadata": {},
   "outputs": [
    {
     "name": "stdout",
     "output_type": "stream",
     "text": [
      "Displaying 6 of 6 matches:\n",
      "t , and was fast asleep . But the frightened master comes to him , and shrieks\n",
      "nd never came to good . He got so frightened about his plaguy soul , that he s\n",
      " says he . Slid ! man , but I was frightened . Such a phiz ! But , somehow , n\n",
      "aking of that buffalo robe to the frightened colt ! Though neither knows where\n",
      "ndostan coast with a deck load of frightened horses , careens , buries , rolls\n",
      "st - sou - east , sir ,\" said the frightened steersman . \" Thou liest !\" smiti\n"
     ]
    }
   ],
   "source": [
    "text1.concordance('frightened')"
   ]
  },
  {
   "cell_type": "code",
   "execution_count": 3,
   "metadata": {},
   "outputs": [
    {
     "name": "stdout",
     "output_type": "stream",
     "text": [
      "Displaying 2 of 2 matches:\n",
      "ns , and dolphins , similar to the grotesque figures on the celestial globe of \n",
      "carving the lid with all manner of grotesque figures and drawings ; and it seem\n"
     ]
    }
   ],
   "source": [
    "text1.concordance('grotesque')"
   ]
  },
  {
   "cell_type": "code",
   "execution_count": 4,
   "metadata": {},
   "outputs": [
    {
     "name": "stdout",
     "output_type": "stream",
     "text": [
      "Displaying 4 of 4 matches:\n",
      "ming ignominy , if thereby he might happily gain the power of enlightening his \n",
      "bove was written , the statement is happily borne out by an official circular ,\n",
      " the shock , but we found that very happily it had escaped entirely uninjured .\n",
      " Pip evinced much nervousness ; but happily , for that time , escaped close con\n"
     ]
    }
   ],
   "source": [
    "text1.concordance('happily')"
   ]
  },
  {
   "cell_type": "code",
   "execution_count": null,
   "metadata": {
    "collapsed": true
   },
   "outputs": [],
   "source": []
  }
 ],
 "metadata": {
  "kernelspec": {
   "display_name": "Python 3",
   "language": "python",
   "name": "python3"
  },
  "language_info": {
   "codemirror_mode": {
    "name": "ipython",
    "version": 3
   },
   "file_extension": ".py",
   "mimetype": "text/x-python",
   "name": "python",
   "nbconvert_exporter": "python",
   "pygments_lexer": "ipython3",
   "version": "3.6.1"
  }
 },
 "nbformat": 4,
 "nbformat_minor": 2
}
